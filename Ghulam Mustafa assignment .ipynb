{
 "cells": [
  {
   "cell_type": "code",
   "execution_count": null,
   "id": "ede1184a",
   "metadata": {},
   "outputs": [],
   "source": [
    "first_input = int(input('Enter the number : '))\n",
    "second_input = int(input('Enter the number : '))\n",
    "op = input()\n",
    "ans = ''\n",
    "if op == '+':\n",
    "    ans = first_input + second_input\n",
    "elif op == '-':\n",
    "    ans = first_input - second_input\n",
    "elif op == '/':\n",
    "    ans = first_input / second_input\n",
    "elif op == '*':\n",
    "    ans = first_input * second_input\n",
    "elif op == '**':\n",
    "    ans = first_input ** second_input\n",
    "else:\n",
    "    print(\" wrong operator \")\n",
    "print(ans)"
   ]
  },
  {
   "cell_type": "code",
   "execution_count": null,
   "id": "4ed00de3",
   "metadata": {},
   "outputs": [],
   "source": [
    "list1 = [\"abc\", \"def\", 4, \"ghi\"]\n",
    "for x in list1:\n",
    "    if type(x) == int:\n",
    "        print(x)"
   ]
  },
  {
   "cell_type": "code",
   "execution_count": null,
   "id": "fcdf52c0",
   "metadata": {},
   "outputs": [],
   "source": [
    "dict1 = {\"brand\": \"Ford\", \"model\": \"Mustang\", \"year\": 1964,}\n",
    "dict1['year2'] = '1947'\n",
    "print(dict1)"
   ]
  },
  {
   "cell_type": "code",
   "execution_count": null,
   "id": "d409823e",
   "metadata": {},
   "outputs": [],
   "source": [
    "l=[1,2,3,4,5,2,3,4,7,9,5]\n",
    "l1=[]\n",
    "for i in l:\n",
    "    if i not in l1:\n",
    "        l1.append(i)\n",
    "    else:\n",
    "        print(i,end=' ')"
   ]
  },
  {
   "cell_type": "code",
   "execution_count": null,
   "id": "a8dbc94d",
   "metadata": {},
   "outputs": [],
   "source": [
    "dict1 = {\"brand\": \"Ford\", \"model\": \"Mustang\", \"year\": 1964,}\n",
    "\n",
    "if 'model' in dict1:\n",
    "    print('key is present ')\n",
    "else:\n",
    "    print('key is not present ')"
   ]
  },
  {
   "cell_type": "code",
   "execution_count": null,
   "id": "a99c5f6c",
   "metadata": {},
   "outputs": [],
   "source": [
    "dict1 = { 'num1': 1, 'num2': 2, 'num3': 3, 'num4': 4}\n",
    "print(sum(dict1.values()))"
   ]
  }
 ],
 "metadata": {
  "kernelspec": {
   "display_name": "Python 3",
   "language": "python",
   "name": "python3"
  },
  "language_info": {
   "codemirror_mode": {
    "name": "ipython",
    "version": 3
   },
   "file_extension": ".py",
   "mimetype": "text/x-python",
   "name": "python",
   "nbconvert_exporter": "python",
   "pygments_lexer": "ipython3",
   "version": "3.8.8"
  }
 },
 "nbformat": 4,
 "nbformat_minor": 5
}
